{
 "cells": [
  {
   "cell_type": "code",
   "execution_count": 1,
   "metadata": {
    "collapsed": true,
    "pycharm": {
     "name": "#%%\n"
    }
   },
   "outputs": [],
   "source": [
    "import os\n",
    "import django\n",
    "os.environ.setdefault('DJANGO_SETTINGS_MODULE', 'HTBot.settings')\n",
    "os.environ[\"DJANGO_ALLOW_ASYNC_UNSAFE\"] = \"true\"\n",
    "django.setup()"
   ]
  },
  {
   "cell_type": "code",
   "execution_count": 2,
   "outputs": [
    {
     "name": "stdout",
     "output_type": "stream",
     "text": [
      "Saved/updated 100 rows to candles table for DOGEUSDT (interval: 3600000ms).\n",
      "{\"code\":\"00000\",\"msg\":\"success\",\"requestTime\":1757099465960,\"data\":{\"symbol\":\"DOGEUSDT_UMCBL\",\"markPrice\":\"0.216172\",\"timestamp\":\"1757099465962\"}}\n",
      "{\"code\":\"00000\",\"msg\":\"success\",\"requestTime\":1757099466924,\"data\":{\"clientOid\":\"1347938350765793280\",\"orderId\":\"1347938350690295809\"}}\n",
      "{\"code\":\"00000\",\"msg\":\"success\",\"requestTime\":1757099467931,\"data\":{\"symbol\":\"DOGEUSDT_UMCBL\",\"markPrice\":\"0.21614\",\"timestamp\":\"1757099467933\"}}\n",
      "{\"code\":\"00000\",\"msg\":\"success\",\"requestTime\":1757099468981,\"data\":{\"clientOid\":\"1347938359297159168\",\"orderId\":\"1347938359297159169\"}}\n",
      "{\"code\":\"00000\",\"msg\":\"success\",\"requestTime\":1757099470164,\"data\":{\"clientOid\":\"1347938364196106240\",\"orderId\":\"1347938364196106241\"}}\n"
     ]
    }
   ],
   "source": [
    "from Database.tasks import check_candles_and_open\n",
    "\n",
    "check_candles_and_open()"
   ],
   "metadata": {
    "collapsed": false,
    "pycharm": {
     "name": "#%%\n"
    }
   }
  },
  {
   "cell_type": "code",
   "execution_count": 4,
   "outputs": [
    {
     "data": {
      "text/plain": "0.22277267"
     },
     "execution_count": 4,
     "metadata": {},
     "output_type": "execute_result"
    }
   ],
   "source": [
    "trigger_price = 0.2227726700000000019590284950\n",
    "round(trigger_price, 10)\n",
    "u 1757082520498\n",
    "c 1757082518970"
   ],
   "metadata": {
    "collapsed": false,
    "pycharm": {
     "name": "#%%\n"
    }
   }
  },
  {
   "cell_type": "code",
   "execution_count": 4,
   "outputs": [
    {
     "name": "stdout",
     "output_type": "stream",
     "text": [
      "{\"code\":\"43020\",\"msg\":\"Stop profit and stop loss order does not exist\",\"requestTime\":1757099509691,\"data\":null}\n",
      "response_code is 43020\n"
     ]
    }
   ],
   "source": [
    "from Database.tasks import check_position\n",
    "\n",
    "check_position()"
   ],
   "metadata": {
    "collapsed": false,
    "pycharm": {
     "name": "#%%\n"
    }
   }
  },
  {
   "cell_type": "code",
   "execution_count": 8,
   "outputs": [
    {
     "name": "stdout",
     "output_type": "stream",
     "text": [
      "1749301974555.333\n"
     ]
    }
   ],
   "source": [
    "from datetime import datetime, timedelta\n",
    "months_ago_timestamp = (datetime.now() - timedelta(days=90)).timestamp() * 1000\n",
    "print(months_ago_timestamp)"
   ],
   "metadata": {
    "collapsed": false,
    "pycharm": {
     "name": "#%%\n"
    }
   }
  },
  {
   "cell_type": "code",
   "execution_count": 4,
   "outputs": [],
   "source": [
    "from Database.models import Candle\n",
    "from ExchangeAPI.APICallManager import Interval\n",
    "candles = Candle.objects.filter(symbol__symbol=\"DOGEUSDT\",\n",
    "                                interval=Interval.HOUR_1.value[1])"
   ],
   "metadata": {
    "collapsed": false,
    "pycharm": {
     "name": "#%%\n"
    }
   }
  },
  {
   "cell_type": "code",
   "execution_count": 17,
   "outputs": [
    {
     "data": {
      "text/plain": "29904"
     },
     "execution_count": 17,
     "metadata": {},
     "output_type": "execute_result"
    }
   ],
   "source": [
    "len(candles)"
   ],
   "metadata": {
    "collapsed": false,
    "pycharm": {
     "name": "#%%\n"
    }
   }
  },
  {
   "cell_type": "code",
   "execution_count": 18,
   "outputs": [
    {
     "data": {
      "text/plain": "datetime.datetime(2022, 4, 3, 15, 0)"
     },
     "execution_count": 18,
     "metadata": {},
     "output_type": "execute_result"
    }
   ],
   "source": [
    "from datetime import datetime\n",
    "datetime.fromtimestamp(candles.first().open_time/1000)"
   ],
   "metadata": {
    "collapsed": false,
    "pycharm": {
     "name": "#%%\n"
    }
   }
  },
  {
   "cell_type": "code",
   "execution_count": 19,
   "outputs": [
    {
     "data": {
      "text/plain": "datetime.datetime(2025, 8, 31, 14, 0)"
     },
     "execution_count": 19,
     "metadata": {},
     "output_type": "execute_result"
    }
   ],
   "source": [
    "from datetime import datetime\n",
    "datetime.fromtimestamp(candles.last().open_time/1000)"
   ],
   "metadata": {
    "collapsed": false,
    "pycharm": {
     "name": "#%%\n"
    }
   }
  },
  {
   "cell_type": "code",
   "execution_count": 15,
   "outputs": [
    {
     "name": "stdout",
     "output_type": "stream",
     "text": [
      "Saved/updated 100 rows to candles table for DOGEUSDT (interval: 3600000ms).\n",
      "OKAY\n"
     ]
    }
   ],
   "source": [
    "from ExchangeAPI.APICallManager import CandleAgent\n",
    "# from ExchangeAPI.APICallManager import Interval\n",
    "agent = CandleAgent(symbol=\"DOGEUSDT\", interval=Interval.HOUR_1)\n",
    "# for i in range(15):\n",
    "#     old_candles = agent.fetch_past_candles()\n",
    "#     agent.save_to_db(candles=old_candles)\n",
    "candles = agent.fetch_future_candles()\n",
    "agent.save_to_db(candles=candles)\n",
    "agent.check_candles_consistency()"
   ],
   "metadata": {
    "collapsed": false,
    "pycharm": {
     "name": "#%%\n"
    }
   }
  },
  {
   "cell_type": "code",
   "execution_count": 5,
   "outputs": [],
   "source": [
    "def will_success(tp_percentage, sl_percentage, sign_candle: Candle, position_type: str):\n",
    "    future_candles = Candle.objects.filter(\n",
    "        symbol=sign_candle.symbol,\n",
    "        interval=sign_candle.interval,\n",
    "        open_time__gt=sign_candle.open_time\n",
    "    )\n",
    "    price = sign_candle.close\n",
    "    if position_type == \"long\":\n",
    "        tp_price = price * (1 + tp_percentage / 100)\n",
    "        sl_price = price * (1 - sl_percentage / 100)\n",
    "        for future_candle in future_candles:\n",
    "            if future_candle.high >= tp_price:\n",
    "                return True, future_candle.open_time\n",
    "            elif future_candle.low <= sl_price:\n",
    "                return False, future_candle.open_time\n",
    "        return False, datetime.now().timestamp() * 1000\n",
    "    else:\n",
    "        sl_price = price * (1 + sl_percentage / 100)\n",
    "        tp_price = price * (1 - tp_percentage / 100)\n",
    "        for future_candle in future_candles:\n",
    "            if future_candle.high >= sl_price:\n",
    "                return False, future_candle.open_time\n",
    "            elif future_candle.low <= tp_price:\n",
    "                return True, future_candle.open_time\n",
    "        return False, datetime.now().timestamp() * 1000"
   ],
   "metadata": {
    "collapsed": false,
    "pycharm": {
     "name": "#%%\n"
    }
   }
  },
  {
   "cell_type": "code",
   "execution_count": 6,
   "outputs": [],
   "source": [
    "from django.db.models import QuerySet\n",
    "from Database.models import Candle\n",
    "\n",
    "def strategy(candles: QuerySet[Candle], tp_percentage: int, sl_percentage: int):\n",
    "    total_counts = 0\n",
    "    success_counts = 0\n",
    "    last_time = candles.first().open_time\n",
    "    for two_previous_candle, previous_candle, candle in zip(candles, candles[1:], candles[2:]):\n",
    "\n",
    "        if candle.open_time <= last_time:\n",
    "            continue\n",
    "\n",
    "        if two_previous_candle.is_green() and previous_candle.is_green() and candle.is_green():\n",
    "\n",
    "            total_counts += 1\n",
    "            successful, last_time = will_success(\n",
    "                tp_percentage=tp_percentage,\n",
    "                sl_percentage=sl_percentage,\n",
    "                sign_candle=candle,\n",
    "                position_type=\"long\",\n",
    "            )\n",
    "            if successful:\n",
    "                success_counts += 1\n",
    "                # print(\"SUCCESS LONG\")\n",
    "                # print(datetime.fromtimestamp(candle.open_time / 1000))\n",
    "                # print(\"**********************\\n\")\n",
    "            else:\n",
    "                pass\n",
    "                # print(\"FAIL LONG\")\n",
    "                # print(datetime.fromtimestamp(candle.open_time / 1000))\n",
    "                # print(\"**********************\\n\")\n",
    "        elif (not two_previous_candle.is_green() and\n",
    "              not previous_candle.is_green() and\n",
    "              not candle.is_green()):\n",
    "            total_counts += 1\n",
    "            successful, last_time = will_success(\n",
    "                tp_percentage=tp_percentage,\n",
    "                sl_percentage=sl_percentage,\n",
    "                sign_candle=candle,\n",
    "                position_type=\"short\",\n",
    "            )\n",
    "            if successful:\n",
    "                # print(\"SUCCESS SHORT\")\n",
    "                # print(datetime.fromtimestamp(candle.open_time / 1000))\n",
    "                # print(\"**********************\\n\")\n",
    "                success_counts += 1\n",
    "            else:\n",
    "                # print(\"FAIL SHORT\")\n",
    "                # print(datetime.fromtimestamp(candle.open_time / 1000))\n",
    "                # print(\"**********************\\n\")\n",
    "                pass\n",
    "\n",
    "    return total_counts, success_counts"
   ],
   "metadata": {
    "collapsed": false,
    "pycharm": {
     "name": "#%%\n"
    }
   }
  },
  {
   "cell_type": "code",
   "execution_count": 7,
   "outputs": [
    {
     "name": "stdout",
     "output_type": "stream",
     "text": [
      "2025-08-06 09:07:11.741287\n",
      "Month 1: (34, 6) -> 20\n",
      "2025-07-07 09:07:12.190500\n",
      "Month 2: (43, 7) -> 20\n",
      "2025-06-07 09:07:13.298051\n",
      "Month 3: (31, 6) -> 23\n",
      "2025-05-08 09:07:14.212170\n",
      "Month 4: (44, 7) -> 19\n",
      "2025-04-08 09:07:16.007152\n",
      "Month 5: (34, 6) -> 20\n",
      "2025-03-09 09:07:20.000565\n",
      "Month 6: (43, 8) -> 29\n",
      "2025-02-07 09:07:25.581016\n",
      "Month 7: (47, 6) -> 7\n",
      "2025-01-08 09:07:32.036379\n",
      "Month 8: (61, 8) -> 11\n",
      "2024-12-09 09:07:44.894241\n"
     ]
    },
    {
     "name": "stderr",
     "output_type": "stream",
     "text": [
      "Exception ignored in: <bound method IPythonKernel._clean_thread_parent_frames of <ipykernel.ipkernel.IPythonKernel object at 0x7f1837c682c0>>\n",
      "Traceback (most recent call last):\n",
      "  File \"/home/benyamin/Projects/HTBot/.venv/lib/python3.12/site-packages/ipykernel/ipkernel.py\", line 775, in _clean_thread_parent_frames\n",
      "    def _clean_thread_parent_frames(\n",
      "\n",
      "KeyboardInterrupt: \n"
     ]
    },
    {
     "name": "stdout",
     "output_type": "stream",
     "text": [
      "Month 9: (42, 4) -> -6\n",
      "2024-11-09 09:07:55.851819\n",
      "Month 10: (63, 8) -> 9\n",
      "2024-10-10 09:08:03.641569\n",
      "Month 11: (37, 8) -> 35\n",
      "2024-09-10 09:08:08.249847\n",
      "Month 12: (29, 4) -> 7\n",
      "2024-08-11 09:08:12.880438\n",
      "Month 13: (35, 3) -> -8\n",
      "2024-07-12 09:08:21.270153\n",
      "Month 14: (41, 7) -> 22\n",
      "2024-06-12 09:08:34.514181\n",
      "Month 15: (32, 5) -> 13\n",
      "2024-05-13 09:08:41.337096\n",
      "Month 16: (36, 4) -> 0\n",
      "2024-04-13 09:08:50.340475\n",
      "Month 17: (55, 6) -> -1\n",
      "2024-03-14 09:09:03.733307\n",
      "Month 18: (68, 8) -> 4\n",
      "2024-02-13 09:09:19.622387\n",
      "Month 19: (57, 9) -> 24\n",
      "2024-01-14 09:09:34.210607\n",
      "Month 20: (9, 2) -> 9\n",
      "2023-12-15 09:09:36.833072\n",
      "Month 21: (35, 1) -> -26\n",
      "2023-11-15 09:09:46.926796\n",
      "Month 22: (44, 7) -> 19\n",
      "2023-10-16 09:09:59.700798\n",
      "Month 23: (33, 4) -> 3\n",
      "2023-09-16 09:10:07.929635\n",
      "Month 24: (8, 1) -> 1\n",
      "2023-08-17 09:10:09.546670\n",
      "Month 25: (17, 1) -> -8\n",
      "2023-07-18 09:10:12.770721\n",
      "Month 26: (31, 3) -> -4\n",
      "2023-06-18 09:10:19.344340\n",
      "Month 27: (35, 2) -> -17\n",
      "2023-05-19 09:10:27.385730\n",
      "Month 28: (13, 4) -> 23\n",
      "2023-04-19 09:10:30.543026\n",
      "Month 29: (32, 2) -> -14\n",
      "2023-03-20 09:10:37.702125\n",
      "Month 30: (26, 2) -> -8\n",
      "2023-02-18 09:10:45.157105\n",
      "Month 31: (33, 6) -> 21\n",
      "2023-01-19 09:10:55.427789\n",
      "Month 32: (27, 4) -> 9\n",
      "2022-12-20 09:11:04.760927\n",
      "Month 33: (31, 3) -> -4\n",
      "2022-11-20 09:11:14.141582\n",
      "Month 34: (44, 7) -> 19\n",
      "2022-10-21 09:11:26.087417\n",
      "Month 35: (67, 5) -> -22\n",
      "2022-09-21 09:11:42.021024\n",
      "Month 36: (30, 4) -> 6\n",
      "255\n"
     ]
    }
   ],
   "source": [
    "from datetime import datetime, timedelta\n",
    "first_parameter = 0\n",
    "last_parameter = 30\n",
    "tp_percentage = 8\n",
    "sl_percentage = 1\n",
    "total_point = 0\n",
    "i = 1\n",
    "\n",
    "while last_parameter <= 36 * 30:\n",
    "    end_time = (datetime.now() - timedelta(days=first_parameter)).timestamp() * 1000\n",
    "    start_time = (datetime.now() - timedelta(days=last_parameter)).timestamp() * 1000\n",
    "    print(datetime.fromtimestamp(start_time/1000))\n",
    "    candles = Candle.objects.filter(symbol__symbol=\"DOGEUSDT\",\n",
    "                                open_time__gte=start_time,\n",
    "                                open_time__lte=end_time,\n",
    "                                interval=Interval.HOUR_1.value[1])\n",
    "    total, success = strategy(\n",
    "        candles=candles,\n",
    "        tp_percentage=tp_percentage,\n",
    "        sl_percentage=sl_percentage,\n",
    "    )\n",
    "\n",
    "    fail = total - success\n",
    "    point = (success * tp_percentage) - (fail * sl_percentage)\n",
    "    total_point += point\n",
    "    first_parameter = last_parameter\n",
    "    last_parameter += 30\n",
    "    print(f'Month {i}: {(total, success)} -> {point}')\n",
    "    i += 1\n",
    "\n",
    "print(total_point)"
   ],
   "metadata": {
    "collapsed": false,
    "pycharm": {
     "name": "#%%\n"
    }
   }
  },
  {
   "cell_type": "code",
   "execution_count": null,
   "outputs": [],
   "source": [],
   "metadata": {
    "collapsed": false,
    "pycharm": {
     "name": "#%%\n"
    }
   }
  }
 ],
 "metadata": {
  "kernelspec": {
   "name": "htbot_kernel",
   "language": "python",
   "display_name": "htbot_kernel"
  },
  "language_info": {
   "codemirror_mode": {
    "name": "ipython",
    "version": 2
   },
   "file_extension": ".py",
   "mimetype": "text/x-python",
   "name": "python",
   "nbconvert_exporter": "python",
   "pygments_lexer": "ipython2",
   "version": "2.7.6"
  }
 },
 "nbformat": 4,
 "nbformat_minor": 0
}